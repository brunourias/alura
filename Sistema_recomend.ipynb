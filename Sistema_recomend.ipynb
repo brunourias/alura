{
  "nbformat": 4,
  "nbformat_minor": 0,
  "metadata": {
    "colab": {
      "provenance": [],
      "authorship_tag": "ABX9TyNdd8w2gPMeF+1K68vmfkLe",
      "include_colab_link": true
    },
    "kernelspec": {
      "name": "python3",
      "display_name": "Python 3"
    },
    "language_info": {
      "name": "python"
    }
  },
  "cells": [
    {
      "cell_type": "markdown",
      "metadata": {
        "id": "view-in-github",
        "colab_type": "text"
      },
      "source": [
        "<a href=\"https://colab.research.google.com/github/brunourias/alura/blob/main/Sistema_recomend.ipynb\" target=\"_parent\"><img src=\"https://colab.research.google.com/assets/colab-badge.svg\" alt=\"Open In Colab\"/></a>"
      ]
    },
    {
      "cell_type": "code",
      "execution_count": 2,
      "metadata": {
        "id": "Iy6VUFXMGVlE",
        "colab": {
          "base_uri": "https://localhost:8080/"
        },
        "outputId": "31196fc5-7ff7-492a-ddfd-a98c8e81ae1f"
      },
      "outputs": [
        {
          "output_type": "stream",
          "name": "stdout",
          "text": [
            "Requirement already satisfied: pyspark in /usr/local/lib/python3.10/dist-packages (3.5.2)\n",
            "Requirement already satisfied: py4j==0.10.9.7 in /usr/local/lib/python3.10/dist-packages (from pyspark) (0.10.9.7)\n"
          ]
        }
      ],
      "source": [
        "!pip install pyspark"
      ]
    },
    {
      "cell_type": "code",
      "source": [
        "from pyspark.sql import SparkSession\n",
        "from pyspark import SparkFiles"
      ],
      "metadata": {
        "id": "AEFIVY6bI6P_"
      },
      "execution_count": 3,
      "outputs": []
    },
    {
      "cell_type": "code",
      "source": [
        "sessao_spark = SparkSession.builder.appName(\"Recomendador PySpark\").getOrCreate()"
      ],
      "metadata": {
        "id": "_pIdsBSnI_VB"
      },
      "execution_count": 4,
      "outputs": []
    },
    {
      "cell_type": "code",
      "source": [
        "url_dados = 'https://github.com/brunourias/alura/blob/main/dados_musicas.csv?raw=true'\n",
        "sessao_spark.sparkContext.addFile(url_dados)\n",
        "path_dados_file = 'file://' + SparkFiles.get('dados_musicas.csv')\n",
        "path_dados_file"
      ],
      "metadata": {
        "colab": {
          "base_uri": "https://localhost:8080/",
          "height": 36
        },
        "id": "yEUhWzkpJi-c",
        "outputId": "7fee4b9e-6c63-4573-e1c4-7c304ff7ef64"
      },
      "execution_count": 5,
      "outputs": [
        {
          "output_type": "execute_result",
          "data": {
            "text/plain": [
              "'file:///tmp/spark-278290c4-06e5-4f4e-bc3c-b54b177b0e6c/userFiles-0387f1b0-5133-4754-8ae3-3f0d855e842f/dados_musicas.csv'"
            ],
            "application/vnd.google.colaboratory.intrinsic+json": {
              "type": "string"
            }
          },
          "metadata": {},
          "execution_count": 5
        }
      ]
    },
    {
      "cell_type": "code",
      "source": [
        "dados = sessao_spark.read.csv(path_dados_file, header=True, sep=';', inferSchema=True)"
      ],
      "metadata": {
        "id": "ePve5ZMYPWoF"
      },
      "execution_count": 6,
      "outputs": []
    },
    {
      "cell_type": "code",
      "source": [
        "dados.show()"
      ],
      "metadata": {
        "id": "_Pgr9k4xc5KZ",
        "outputId": "3d371293-4ae7-4ac5-b9b3-168018741206",
        "colab": {
          "base_uri": "https://localhost:8080/"
        }
      },
      "execution_count": 7,
      "outputs": [
        {
          "output_type": "stream",
          "name": "stdout",
          "text": [
            "+------------------+----+------------+--------------+------------------+-----------+------------------+--------+--------------------+--------------------+---+--------+-------------------+----+--------------------+----------+-----------+------------------+--------------------+\n",
            "|           valence|year|acousticness|       artists|      danceability|duration_ms|            energy|explicit|                  id|    instrumentalness|key|liveness|           loudness|mode|                name|popularity|speechiness|             tempo|        artists_song|\n",
            "+------------------+----+------------+--------------+------------------+-----------+------------------+--------+--------------------+--------------------+---+--------+-------------------+----+--------------------+----------+-----------+------------------+--------------------+\n",
            "|             0.285|2000|     0.00239|      Coldplay|             0.429|     266773|0.6609999999999999|       0|3AJwUDP919kvQ9Qco...|             1.21E-4| 11|   0.234|             -7.227|   1|              Yellow|        84|     0.0281|           173.372|   Coldplay - Yellow|\n",
            "|             0.613|2000|       0.143|       OutKast|             0.843|     270507|0.8059999999999999|       1|0I3q5fE6wg7LIfHGn...|                 0.0|  4|  0.0771|-5.9460000000000015|   0|         Ms. Jackson|        80|      0.269|            94.948|OutKast - Ms. Jac...|\n",
            "|               0.4|2000|     0.00958|   Linkin Park|             0.556|     216880|0.8640000000000001|       0|60a0Rd6pjrkxjPbaK...|                 0.0|  3|   0.209|              -5.87|   0|          In the End|        84|     0.0584|           105.143|Linkin Park - In ...|\n",
            "|0.5429999999999999|2000|     0.00664|  3 Doors Down|             0.545|     233933|             0.865|       0|6ZOBP3NvffbU4SZcr...|              1.1E-5| 11|   0.168|-5.7079999999999975|   0|          Kryptonite|        78|     0.0286|            99.009|3 Doors Down - Kr...|\n",
            "|              0.76|2000|      0.0302|        Eminem|             0.949|     284200|0.6609999999999999|       1|3yfqSUWxFvZELEM4P...|                 0.0|  5|  0.0454|             -4.244|   0| The Real Slim Shady|        80|     0.0572|           104.504|Eminem - The Real...|\n",
            "|             0.941|2000|     9.96E-4|     Disturbed|             0.695|     279213|0.8759999999999999|       1|40rvBMQizxkIqnjPd...|             6.89E-6|  3|   0.106|             -4.262|   0|Down with the Sic...|        76|     0.0553|            89.954|Disturbed - Down ...|\n",
            "|             0.722|2000|      0.0616|         Nelly|              0.85|     291782|               0.7|       1|3Gf5nttwcX9aaSQXR...|              1.8E-6|  7|   0.244|              -6.49|   1|         Ride Wit Me|        74|     0.0478|           101.875| Nelly - Ride Wit Me|\n",
            "|             0.507|2000|      0.0371|        Eminem|              0.78|     404107|             0.768|       1|3UmaczJpikHgJFyBT...|             2.34E-6|  6|   0.518|             -4.325|   0|                Stan|        78|      0.238|            80.063|       Eminem - Stan|\n",
            "|             0.861|2000|       0.031|        *NSYNC|              0.61|     200400|             0.926|       0|62bOmKYxYg7dhrC6g...|              0.0012|  8|  0.0821|             -4.843|   0|         Bye Bye Bye|        71|     0.0479|           172.638|*NSYNC - Bye Bye Bye|\n",
            "|             0.894|2000|         0.3|Britney Spears|0.7509999999999999|     211160|0.8340000000000001|       0|6naxalmIoLFWR0siv...|             1.77E-5|  1|   0.355|             -5.444|   0|Oops!...I Did It ...|        78|     0.0437|            95.053|Britney Spears - ...|\n",
            "|             0.165|2000|       0.748|      Coldplay|             0.371|     227093|             0.268|       0|7D0RhFcb3CrfPuTJ0...|              0.0517|  1|   0.104|-10.505999999999998|   1|              Sparks|        73|     0.0281|           102.617|   Coldplay - Sparks|\n",
            "|0.5379999999999999|2000|      0.0014|   Linkin Park|0.4920000000000001|     157333|             0.969|       0|3K4HG9evC7dg3N0R9...|             1.32E-6|  9|  0.0787|             -4.419|   1|     One Step Closer|        76|     0.0491|            95.136|Linkin Park - One...|\n",
            "|             0.654|2000|      0.0561|        Shaggy|             0.853|     227600|             0.606|       0|3WkibOpDF7cQ5xntM...|                 0.0|  0|   0.313|             -4.596|   1|        It Wasn't Me|        76|     0.0713|            94.759|Shaggy - It Wasn'...|\n",
            "|             0.565|2000|     0.00689|         Nelly|             0.865|     287000|             0.664|       1|3wMUvT6eIw2L5cZFG...|                 0.0|  2|   0.142|             -6.822|   1|Country Grammar (...|        70|      0.108|162.83100000000005|Nelly - Country G...|\n",
            "|             0.532|2000|      0.0112|   The Beatles|             0.386|     425653|             0.607|       0|0aym2LBJBk9DAYuHH...|1.380000000000000...| 10|   0.088|               -7.7|   1|Hey Jude - Remast...|        76|     0.0261|           147.207|The Beatles - Hey...|\n",
            "|             0.866|2000|       0.386|   The Beatles|              0.49|     145747|             0.715|       0|4pbG9SUmWIvsROVLF...|                 0.0|  7|   0.311|             -5.549|   1|I Want To Hold Yo...|        73|     0.0476|           130.726|The Beatles - I W...|\n",
            "|             0.435|2000|     0.00118|     Lifehouse|             0.541|     216067|0.8640000000000001|       0|0wqOReZDnrefefEsr...|                 0.0|  1|  0.0896|             -4.915|   1| Hanging By A Moment|        65|     0.0357|           124.557|Lifehouse - Hangi...|\n",
            "|             0.299|2000|      0.0466|   Linkin Park|              0.58|     208960|0.7020000000000001|       0|57BrRMwf9LrcmuOsy...|              3.2E-6|  4|   0.536|             -5.565|   1|            Crawling|        73|     0.0337|           105.076|Linkin Park - Cra...|\n",
            "|             0.915|2000|      0.0281|       OutKast|             0.725|     240027|              0.64|       1|6glsMWIMIxQ4BedzL...|                 0.0|  5|   0.099|             -7.905|   0|  So Fresh, So Clean|        68|      0.332|           166.028|OutKast - So Fres...|\n",
            "|             0.885|2000|       0.627|     Sam Cooke|             0.691|     125440|             0.507|       0|2g2GkH3vZHk4lWzBj...|                 0.0| 11|   0.457|             -10.23|   1|(What A) Wonderfu...|        72|     0.0343|           128.518|Sam Cooke - (What...|\n",
            "+------------------+----+------------+--------------+------------------+-----------+------------------+--------+--------------------+--------------------+---+--------+-------------------+----+--------------------+----------+-----------+------------------+--------------------+\n",
            "only showing top 20 rows\n",
            "\n"
          ]
        }
      ]
    },
    {
      "cell_type": "code",
      "source": [],
      "metadata": {
        "id": "fPjOjl33c63m"
      },
      "execution_count": null,
      "outputs": []
    }
  ]
}