{
  "nbformat": 4,
  "nbformat_minor": 0,
  "metadata": {
    "colab": {
      "provenance": [],
      "authorship_tag": "ABX9TyOxSjXq1Sp1tsRHhLoZH/gd",
      "include_colab_link": true
    },
    "kernelspec": {
      "name": "python3",
      "display_name": "Python 3"
    },
    "language_info": {
      "name": "python"
    }
  },
  "cells": [
    {
      "cell_type": "markdown",
      "metadata": {
        "id": "view-in-github",
        "colab_type": "text"
      },
      "source": [
        "<a href=\"https://colab.research.google.com/github/brunourias/alura/blob/main/Sistema_recomend.ipynb\" target=\"_parent\"><img src=\"https://colab.research.google.com/assets/colab-badge.svg\" alt=\"Open In Colab\"/></a>"
      ]
    },
    {
      "cell_type": "code",
      "execution_count": null,
      "metadata": {
        "id": "Iy6VUFXMGVlE"
      },
      "outputs": [],
      "source": [
        "!pip install pyspark"
      ]
    },
    {
      "cell_type": "code",
      "source": [
        "from pyspark.sql import SparkSession\n",
        "from pyspark import SparkFiles"
      ],
      "metadata": {
        "id": "AEFIVY6bI6P_"
      },
      "execution_count": null,
      "outputs": []
    },
    {
      "cell_type": "code",
      "source": [
        "sessao_spark = SparkSession.builder.appName(\"Recomendador PySpark\").getOrCreate()"
      ],
      "metadata": {
        "id": "_pIdsBSnI_VB"
      },
      "execution_count": 45,
      "outputs": []
    },
    {
      "cell_type": "code",
      "source": [
        "url_dados = 'https://github.com/brunourias/alura/blob/main/dados_musicas.csv?raw=true'\n",
        "sessao_spark.sparkContext.addFile(url_dados)\n",
        "path_dados_file = 'file://' + SparkFiles.get('dados_musicas.csv')\n",
        "path_dados_file"
      ],
      "metadata": {
        "colab": {
          "base_uri": "https://localhost:8080/",
          "height": 35
        },
        "id": "yEUhWzkpJi-c",
        "outputId": "ffc42212-ac85-417a-ee8f-8effc44cb7e3"
      },
      "execution_count": 46,
      "outputs": [
        {
          "output_type": "execute_result",
          "data": {
            "text/plain": [
              "'file:///tmp/spark-287ca2ba-dcdd-4e7f-a1f7-8e8ebe80e678/userFiles-1cbb99d7-a44a-490d-a56c-ae7f465f4f61/dados_musicas.csv'"
            ],
            "application/vnd.google.colaboratory.intrinsic+json": {
              "type": "string"
            }
          },
          "metadata": {},
          "execution_count": 46
        }
      ]
    },
    {
      "cell_type": "code",
      "source": [
        "dados = sessao_spark.read.csv(path_dados_file, header=True, sep=';', inferSchema=True)"
      ],
      "metadata": {
        "id": "ePve5ZMYPWoF"
      },
      "execution_count": null,
      "outputs": []
    }
  ]
}